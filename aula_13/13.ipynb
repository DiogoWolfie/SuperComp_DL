{
 "cells": [
  {
   "cell_type": "code",
   "execution_count": null,
   "metadata": {
    "vscode": {
     "languageId": "plaintext"
    }
   },
   "outputs": [],
   "source": [
    "import numpy as np\n",
    "import matplotlib.pyplot as plt\n",
    "\n",
    "# Definindo os valores fornecidos\n",
    "default = [0.000201159, 0.000228217, 0.000213511]\n",
    "schedule_static = [2.82815e-05, 3.27304e-05, 2.78624e-05]\n",
    "schedule_static_4 = [2.7434e-05, 3.16883e-05, 2.79173e-05]\n",
    "schedule_static_8 = [2.70838e-05, 3.60059e-05, 2.7366e-05]\n",
    "schedule_dynamic = [3.0973e-05, 3.50866e-05, 3.16333e-05]\n",
    "schedule_dynamic_1 = [2.95518e-05, 3.71123e-05, 3.66932e-05]\n",
    "schedule_dynamic_4 = [2.85264e-05, 3.26606e-05, 2.93115e-05]\n",
    "schedule_dynamic_8 = [2.8084e-05, 3.26093e-05, 2.89762e-05]\n",
    "schedule_guided = [2.99355e-05, 3.38256e-05, 2.99839e-05]\n",
    "schedule_guided_2 = [3.66522e-05, 3.2953e-05, 2.90088e-05]\n",
    "schedule_guided_4 = [2.76798e-05, 3.25078e-05, 2.83467e-05]\n",
    "schedule_guided_8 = [3.33879e-05, 3.25441e-05, 2.84556e-05]\n",
    "schedule_auto = [3.15579e-05, 3.08026e-05, 2.84594e-05]\n",
    "schedule_runtime = [3.38117e-05, 3.38862e-05, 3.13288e-05]\n",
    "\n",
    "# Calculando as médias\n",
    "averages = {\n",
    "    \"default\": np.mean(default),\n",
    "    \"schedule_static\": np.mean(schedule_static),\n",
    "    \"schedule_static_4\": np.mean(schedule_static_4),\n",
    "    \"schedule_static_8\": np.mean(schedule_static_8),\n",
    "    \"schedule_dynamic\": np.mean(schedule_dynamic),\n",
    "    \"schedule_dynamic_1\": np.mean(schedule_dynamic_1),\n",
    "    \"schedule_dynamic_4\": np.mean(schedule_dynamic_4),\n",
    "    \"schedule_dynamic_8\": np.mean(schedule_dynamic_8),\n",
    "    \"schedule_guided\": np.mean(schedule_guided),\n",
    "    \"schedule_guided_2\": np.mean(schedule_guided_2),\n",
    "    \"schedule_guided_4\": np.mean(schedule_guided_4),\n",
    "    \"schedule_guided_8\": np.mean(schedule_guided_8),\n",
    "    \"schedule_auto\": np.mean(schedule_auto),\n",
    "    \"schedule_runtime\": np.mean(schedule_runtime)\n",
    "}\n",
    "\n",
    "# Plotando o gráfico\n",
    "labels = list(averages.keys())\n",
    "values = list(averages.values())\n",
    "\n",
    "plt.figure(figsize=(10, 6))\n",
    "plt.bar(labels, values, color='skyblue')\n",
    "plt.xticks(rotation=90)\n",
    "plt.ylabel('Média dos valores')\n",
    "plt.title('Média dos valores por tipo de escalonamento')\n",
    "plt.tight_layout()\n",
    "\n",
    "# Exibindo o gráfico\n",
    "plt.show()\n",
    "\n",
    "# Retornando a média de cada um\n",
    "averages\n"
   ]
  },
  {
   "cell_type": "code",
   "execution_count": null,
   "metadata": {
    "vscode": {
     "languageId": "plaintext"
    }
   },
   "outputs": [],
   "source": []
  }
 ],
 "metadata": {
  "language_info": {
   "name": "python"
  }
 },
 "nbformat": 4,
 "nbformat_minor": 2
}
