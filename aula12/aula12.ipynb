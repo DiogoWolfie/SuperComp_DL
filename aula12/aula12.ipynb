{
  "cells": [
    {
      "cell_type": "code",
      "execution_count": null,
      "metadata": {
        "colab": {
          "base_uri": "https://localhost:8080/"
        },
        "id": "uzDqwPpyaBLS",
        "outputId": "fe317025-3fef-4366-9e00-30222e9d5826"
      },
      "outputs": [
        {
          "name": "stdout",
          "output_type": "stream",
          "text": [
            "Fri Sep 20 16:38:11 2024       \n",
            "+---------------------------------------------------------------------------------------+\n",
            "| NVIDIA-SMI 535.104.05             Driver Version: 535.104.05   CUDA Version: 12.2     |\n",
            "|-----------------------------------------+----------------------+----------------------+\n",
            "| GPU  Name                 Persistence-M | Bus-Id        Disp.A | Volatile Uncorr. ECC |\n",
            "| Fan  Temp   Perf          Pwr:Usage/Cap |         Memory-Usage | GPU-Util  Compute M. |\n",
            "|                                         |                      |               MIG M. |\n",
            "|=========================================+======================+======================|\n",
            "|   0  Tesla T4                       Off | 00000000:00:04.0 Off |                    0 |\n",
            "| N/A   50C    P8              10W /  70W |      0MiB / 15360MiB |      0%      Default |\n",
            "|                                         |                      |                  N/A |\n",
            "+-----------------------------------------+----------------------+----------------------+\n",
            "                                                                                         \n",
            "+---------------------------------------------------------------------------------------+\n",
            "| Processes:                                                                            |\n",
            "|  GPU   GI   CI        PID   Type   Process name                            GPU Memory |\n",
            "|        ID   ID                                                             Usage      |\n",
            "|=======================================================================================|\n",
            "|  No running processes found                                                           |\n",
            "+---------------------------------------------------------------------------------------+\n"
          ]
        }
      ],
      "source": [
        "!nvidia-smi"
      ]
    },
    {
      "cell_type": "markdown",
      "metadata": {
        "id": "nFA1Lzf3eKrc"
      },
      "source": [
        "# Aula 12"
      ]
    },
    {
      "cell_type": "code",
      "execution_count": 6,
      "metadata": {
        "colab": {
          "base_uri": "https://localhost:8080/"
        },
        "id": "WXsPte0UeMTW",
        "outputId": "d5425d97-0dc5-4648-86fa-50b458dded22"
      },
      "outputs": [
        {
          "name": "stdout",
          "output_type": "stream",
          "text": [
            "Overwriting exercicio_p1.cu\n"
          ]
        }
      ],
      "source": [
        "%%writefile exercicio_p1.cu\n",
        "#include <thrust/device_vector.h>\n",
        "#include <thrust/host_vector.h>\n",
        "#include <thrust/transform.h>\n",
        "#include <thrust/extrema.h>\n",
        "#include <iostream>\n",
        "#include <chrono>\n",
        "#include <thrust/iterator/constant_iterator.h>\n",
        "#include <thrust/count.h>\n",
        "#include <thrust/replace.h>\n",
        "#include <thrust/sequence.h>\n",
        "using namespace std;\n",
        "\n",
        "\n",
        "\n",
        "struct saxpy\n",
        "{\n",
        "  int a;\n",
        "  saxpy(int a_) : a(a_) {};\n",
        "\n",
        "  __host__ __device__\n",
        "  double operator()(const double& x, const double& y) const{\n",
        "    return x*a + y;\n",
        "  }\n",
        "};\n",
        "\n",
        "\n",
        "int main(){\n",
        "\n",
        "\n",
        "  thrust::device_vector<double> v1(10,0);\n",
        "  thrust::sequence(v1.begin(),v1.end());\n",
        "\n",
        "  thrust::device_vector<double> v2(10,5);\n",
        "\n",
        "  thrust::device_vector<double> v3(10,0);\n",
        "\n",
        "  thrust::transform(v1.begin(),v1.end(),v2.begin(), v3.begin(),saxpy(3));\n",
        "\n",
        "  printf(\"v3: \");\n",
        "  for (thrust::device_vector<double>::iterator i = v3.begin(); i != v3.end(); i++) {\n",
        "      std::cout << *i << \" \"; // Acessa e imprime cada elemento do vetor V3\n",
        "  };\n",
        "\n",
        "\n",
        "\n",
        "  return 0;\n",
        "}\n"
      ]
    },
    {
      "cell_type": "code",
      "execution_count": 7,
      "metadata": {
        "id": "Og85Y82xe6KI"
      },
      "outputs": [],
      "source": [
        "!nvcc -arch=sm_75 -std=c++14 exercicio_p1.cu -o exercicio_p1"
      ]
    },
    {
      "cell_type": "code",
      "execution_count": 8,
      "metadata": {
        "colab": {
          "base_uri": "https://localhost:8080/"
        },
        "id": "2CM6YqSvhJoO",
        "outputId": "387d6f2e-7cb4-4fd8-f44b-5a64af6600e9"
      },
      "outputs": [
        {
          "name": "stdout",
          "output_type": "stream",
          "text": [
            "v3: 5 8 11 14 17 20 23 26 29 32 "
          ]
        }
      ],
      "source": [
        "!./exercicio_p1"
      ]
    },
    {
      "cell_type": "code",
      "execution_count": 57,
      "metadata": {
        "colab": {
          "base_uri": "https://localhost:8080/"
        },
        "id": "WRFYRobnhbSp",
        "outputId": "4cc7e1ae-c38d-479e-981e-c8b7240e2c55"
      },
      "outputs": [
        {
          "name": "stdout",
          "output_type": "stream",
          "text": [
            "Overwriting exercicio_p2.cu\n"
          ]
        }
      ],
      "source": [
        "%%writefile exercicio_p2.cu\n",
        "#include <thrust/device_vector.h>\n",
        "#include <thrust/host_vector.h>\n",
        "#include <thrust/transform.h>\n",
        "#include <thrust/transform_reduce.h>\n",
        "#include <thrust/reduce.h>\n",
        "#include <thrust/extrema.h>\n",
        "#include <iostream>\n",
        "#include <chrono>\n",
        "#include <thrust/iterator/constant_iterator.h>\n",
        "#include <thrust/count.h>\n",
        "#include <thrust/replace.h>\n",
        "#include <thrust/sequence.h>\n",
        "using namespace std;\n",
        "\n",
        "struct square{\n",
        "  __host__ __device__\n",
        "  float operator()(const float& x) const{\n",
        "    return x*x;\n",
        "  }\n",
        "};\n",
        "\n",
        "float magnitude(thrust::device_vector<float>& v){\n",
        "    float soma_quadrados = thrust::transform_reduce(v.begin(),v.end(),square(),0.0f, thrust::plus<float>());\n",
        "    return std::sqrt(soma_quadrados);\n",
        "  };\n",
        "\n",
        "int main(){\n",
        "\n",
        "  //usando GPU\n",
        "\n",
        "\n",
        "  thrust::device_vector<float> v1(1000,0);\n",
        "  thrust::sequence(v1.begin(),v1.end());\n",
        "\n",
        "  std::chrono::duration<double> time1;\n",
        "  auto t1 = std::chrono::steady_clock::now();\n",
        "  float mag = magnitude(v1);\n",
        "  auto t2 =std::chrono::steady_clock::now();\n",
        "  time1 = t2-t1;\n",
        "\n",
        "  cout << \"Magnitude GPU: \" << mag << endl;\n",
        "  cout << \"Tempo GPU: \" << time1.count() << \" s\" <<endl;\n",
        "\n",
        "\n",
        "\n",
        "  return 0;\n",
        "}"
      ]
    },
    {
      "cell_type": "code",
      "execution_count": 58,
      "metadata": {
        "id": "JU_6p3pmj95P"
      },
      "outputs": [],
      "source": [
        "!nvcc -arch=sm_75 -std=c++14 exercicio_p2.cu -o exercicio_p2"
      ]
    },
    {
      "cell_type": "code",
      "execution_count": 59,
      "metadata": {
        "colab": {
          "base_uri": "https://localhost:8080/"
        },
        "id": "vI-0RwjQk_sb",
        "outputId": "64dcd20f-c887-4e3c-bc16-76c33045bc49"
      },
      "outputs": [
        {
          "name": "stdout",
          "output_type": "stream",
          "text": [
            "Magnitude GPU: 18243.7\n",
            "Tempo GPU: 6.8155e-05 s\n"
          ]
        }
      ],
      "source": [
        "!./exercicio_p2\n"
      ]
    },
    {
      "cell_type": "markdown",
      "metadata": {
        "id": "B9AgYeS7qf87"
      },
      "source": [
        "Magnitude (CPU): 18243.7\n",
        "\n",
        "Tempo (CPU): 8.8e-06 s\n",
        "\n",
        "código para rodar está no repositório, aula 12.\n",
        "\n",
        "A diferença entre os tempos pode se explicada pelo fato de, primeiro, estarmos lidando com vetores pequenos, de apenas 1000 elementos, o que já equipara os cálculos na cpu e na gpu, já que a gpu não é muito eficiente para pequenas entradas. Segundo, a invocação de kernels, gerenciamento de threads dentre outras coisas que acontecem dentro da gpu, pode ser responsável pela diferença de tempo analisada."
      ]
    },
    {
      "cell_type": "code",
      "execution_count": 69,
      "metadata": {
        "colab": {
          "base_uri": "https://localhost:8080/"
        },
        "id": "DoTL_PZglZL3",
        "outputId": "8d77606f-3425-4f37-b704-a48803340e5b"
      },
      "outputs": [
        {
          "name": "stdout",
          "output_type": "stream",
          "text": [
            "Overwriting exercicio_p3.cu\n"
          ]
        }
      ],
      "source": [
        "%%writefile exercicio_p3.cu\n",
        "#include <thrust/device_vector.h>\n",
        "#include <thrust/host_vector.h>\n",
        "#include <thrust/transform.h>\n",
        "#include <thrust/transform_reduce.h>\n",
        "#include <thrust/reduce.h>\n",
        "#include <thrust/extrema.h>\n",
        "#include <iostream>\n",
        "#include <chrono>\n",
        "#include <thrust/iterator/constant_iterator.h>\n",
        "#include <thrust/count.h>\n",
        "#include <thrust/replace.h>\n",
        "#include <thrust/sequence.h>\n",
        "using namespace std;\n",
        "\n",
        "\n",
        "struct variance_op\n",
        "{\n",
        "    float mean;\n",
        "    variance_op(float mean_) : mean(mean_) {}  // Construtor que armazena a média\n",
        "\n",
        "    __host__ __device__\n",
        "    float operator()(const float& x) const {\n",
        "        float diff = x - mean;  // Diferença em relação à média\n",
        "        return diff * diff;  // Elevar ao quadrado a diferença\n",
        "    }\n",
        "};\n",
        "\n",
        "float calculate_variance(const thrust::device_vector<float>& vec, float mean) {\n",
        "    return thrust::transform_reduce(vec.begin(), vec.end(), variance_op(mean), 0.0f, thrust::plus<float>()) / vec.size();\n",
        "}\n",
        "\n",
        "float calculate_mean_var(const thrust::device_vector<float>& vec){\n",
        "  float mean = thrust::reduce(vec.begin(),vec.end(), 0.0f, thrust::plus<float>()) / vec.size();\n",
        "  return thrust::transform_reduce(vec.begin(), vec.end(), variance_op(mean), 0.0f, thrust::plus<float>()) / vec.size();\n",
        "}\n",
        "\n",
        "\n",
        "int main(){\n",
        "\n",
        "  thrust::device_vector<float> vec(1000,0);\n",
        "  thrust::sequence(vec.begin(),vec.end());\n",
        "\n",
        "\n",
        "  float mean = thrust::reduce(vec.begin(),vec.end(), 0.0f, thrust::plus<float>()) / vec.size();\n",
        "  //fusion kernel\n",
        "  std::chrono::duration<double> time1;\n",
        "  auto t1 = std::chrono::steady_clock::now();\n",
        "\n",
        "  float variancia_fusion = calculate_variance(vec,mean);\n",
        "\n",
        "  auto t2 =std::chrono::steady_clock::now();\n",
        "  time1 = t2-t1;\n",
        "\n",
        "  cout << \"variancia com fusion: \" << variancia_fusion << endl;\n",
        "  cout << \"Tempo: \" << time1.count() << \" s\" <<endl;\n",
        "\n",
        "\n",
        "  //sem fusion\n",
        "  std::chrono::duration<double> time2;\n",
        "  auto t3 = std::chrono::steady_clock::now();\n",
        "\n",
        "  float variancia = calculate_mean_var(vec);\n",
        "\n",
        "  auto t4 =std::chrono::steady_clock::now();\n",
        "  time2 = t4-t3;\n",
        "\n",
        "  cout << \"variancia com fusion: \" << variancia << endl;\n",
        "  cout << \"Tempo: \" << time2.count() << \" s\" <<endl;\n",
        "\n",
        "  return 0;\n",
        "}\n",
        "\n"
      ]
    },
    {
      "cell_type": "code",
      "execution_count": 70,
      "metadata": {
        "id": "yywbdJIsqfQT"
      },
      "outputs": [],
      "source": [
        "!nvcc -arch=sm_75 -std=c++14 exercicio_p3.cu -o exercicio_p3"
      ]
    },
    {
      "cell_type": "code",
      "execution_count": 71,
      "metadata": {
        "colab": {
          "base_uri": "https://localhost:8080/"
        },
        "id": "QIJmSFM2xq_5",
        "outputId": "d6ee7697-3646-4cfa-d353-07555c408e27"
      },
      "outputs": [
        {
          "name": "stdout",
          "output_type": "stream",
          "text": [
            "variancia com fusion: 83333.2\n",
            "Tempo: 7.5557e-05 s\n",
            "variancia com fusion: 83333.2\n",
            "Tempo: 0.000105467 s\n"
          ]
        }
      ],
      "source": [
        "!./exercicio_p3"
      ]
    },
    {
      "cell_type": "markdown",
      "metadata": {
        "id": "lThnvozeylCK"
      },
      "source": [
        "confesso que fiquei confuso. Não tenho certeza se entedi corretamente a diferença entre as funções usando fusion e sem usá-lo. No final, o cálculo da média terá que ser realizado da mesma forma..."
      ]
    },
    {
      "cell_type": "code",
      "execution_count": null,
      "metadata": {
        "id": "MO23EcfOyKRs"
      },
      "outputs": [],
      "source": []
    }
  ],
  "metadata": {
    "accelerator": "GPU",
    "colab": {
      "gpuType": "T4",
      "provenance": []
    },
    "kernelspec": {
      "display_name": "Python 3",
      "name": "python3"
    },
    "language_info": {
      "name": "python"
    }
  },
  "nbformat": 4,
  "nbformat_minor": 0
}
